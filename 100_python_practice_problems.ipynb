{
  "nbformat": 4,
  "nbformat_minor": 0,
  "metadata": {
    "colab": {
      "provenance": []
    },
    "kernelspec": {
      "name": "python3",
      "display_name": "Python 3"
    },
    "language_info": {
      "name": "python"
    }
  },
  "cells": [
    {
      "cell_type": "code",
      "execution_count": 6,
      "metadata": {
        "colab": {
          "base_uri": "https://localhost:8080/"
        },
        "id": "k5TTmXUVC8Nw",
        "outputId": "ca9957ca-8d0f-4db7-cb20-a1425bccb965"
      },
      "outputs": [
        {
          "output_type": "stream",
          "name": "stdout",
          "text": [
            "Enter your age : 90\n",
            "Enter your age : 26\n",
            "Enter your age : 16\n",
            "90\n"
          ]
        }
      ],
      "source": [
        "# Q1.User will input (3ages).Find the oldest one\n",
        "age_1 = int(input(\"Enter your age : \"))\n",
        "age_2 = int(input(\"Enter your age : \"))\n",
        "age_3 = int(input(\"Enter your age : \"))\n",
        "\n",
        "#if age_1 > age_2 and age_1 > age_3:\n",
        "#            print(age_1,\"is oldest age\")\n",
        "#elif age_2 > age_3:\n",
        "#            print(age_2,\"is oldest age\")\n",
        "#else:\n",
        "#            print(age_3,\"is oldest age\")\n",
        "\n",
        "max = age_1 # assume age_1 is the max age\n",
        "if max < age_2:\n",
        "  max = age_2\n",
        "if max < age_3:\n",
        "  max = age_3\n",
        "print(max)"
      ]
    },
    {
      "cell_type": "code",
      "source": [
        "# similarly checking for the minimum age\n",
        "age_1 = int(input(\"Enter your age : \"))\n",
        "age_2 = int(input(\"Enter your age : \"))\n",
        "age_3 = int(input(\"Enter your age : \"))\n",
        "\n",
        "\n",
        "min = age_1 # assume age_1 is the min age\n",
        "if min > age_2:\n",
        "  min = age_2\n",
        "if min > age_3:\n",
        "  min = age_3\n",
        "print(min)"
      ],
      "metadata": {
        "colab": {
          "base_uri": "https://localhost:8080/"
        },
        "id": "aHmR-AJuEuI4",
        "outputId": "bcaf9570-51d2-4f26-d3ce-01d371cb2fd0"
      },
      "execution_count": 7,
      "outputs": [
        {
          "output_type": "stream",
          "name": "stdout",
          "text": [
            "Enter your age : 81\n",
            "Enter your age : 26\n",
            "Enter your age : 36\n",
            "26\n"
          ]
        }
      ]
    },
    {
      "cell_type": "code",
      "source": [
        "# Q2.Write a program that will convert celsius value to fahrenheit\n",
        "\n",
        "c = float(input(\"enter the celcius :\"))\n",
        "F=(c*9/5)+32\n",
        "print(\"Fehrenhite wil be :\",F)"
      ],
      "metadata": {
        "colab": {
          "base_uri": "https://localhost:8080/"
        },
        "id": "l-HvRLVhG3zN",
        "outputId": "ceda8a35-fc56-451c-87af-07b0dbd49286"
      },
      "execution_count": 9,
      "outputs": [
        {
          "output_type": "stream",
          "name": "stdout",
          "text": [
            "enter the celcius :32\n",
            "Fehrenhite wil be : 89.6\n"
          ]
        }
      ]
    },
    {
      "cell_type": "code",
      "source": [
        "# Q3. User will input (2numbers).Write a program to swap the numbers\n",
        "\n",
        "a = int(input(\"Enter the number 1st :\"))\n",
        "b = int(input(\"Enter the number 2nd :\"))\n",
        "\n",
        "print(\"numbers before swap\",a,b)\n",
        "temp = a\n",
        "a = b\n",
        "b = temp\n",
        "print(\"numbers after swap\",a,b)\n"
      ],
      "metadata": {
        "colab": {
          "base_uri": "https://localhost:8080/"
        },
        "id": "a8Ip7M3lIDMi",
        "outputId": "a60ba6b9-246d-4bbb-d8df-dff05148bda6"
      },
      "execution_count": 10,
      "outputs": [
        {
          "output_type": "stream",
          "name": "stdout",
          "text": [
            "Enter the number 1st :9\n",
            "Enter the number 2nd :18\n",
            "numbers before swap 9 18\n",
            "numbers after swap 18 9\n"
          ]
        }
      ]
    },
    {
      "cell_type": "code",
      "source": [
        "a=5\n",
        "b=6\n",
        "a,b = b,a\n",
        "print(a,b)"
      ],
      "metadata": {
        "colab": {
          "base_uri": "https://localhost:8080/"
        },
        "id": "Fq4-yw8ZI2Ug",
        "outputId": "2def0ff4-e6b1-4362-d366-88de44c7c687"
      },
      "execution_count": 13,
      "outputs": [
        {
          "output_type": "stream",
          "name": "stdout",
          "text": [
            "6 5\n"
          ]
        }
      ]
    },
    {
      "cell_type": "code",
      "source": [
        "# Q4. Write a program that will give you the sum of 3 digits\n",
        "\n",
        "num = 395\n",
        "a=395%10 #(5)\n",
        "num=num//10 #(39)\n",
        "b=num%10 #(9)\n",
        "c=num//10 #(3)\n",
        "\n",
        "print(a+b+c)\n"
      ],
      "metadata": {
        "colab": {
          "base_uri": "https://localhost:8080/"
        },
        "id": "_is3obAII9XD",
        "outputId": "53869477-9430-4ac9-843a-c21ae83ef388"
      },
      "execution_count": 18,
      "outputs": [
        {
          "output_type": "stream",
          "name": "stdout",
          "text": [
            "17\n"
          ]
        }
      ]
    },
    {
      "cell_type": "code",
      "source": [
        "# Q5.Write a program that will reverse a four digit number.Also it checks whether the reverse is true.\n",
        "\n",
        "num=4321\n",
        "\n",
        "a = num%10\n",
        "num=num//10\n",
        "b = num%10\n",
        "num=num//10\n",
        "c = num%10\n",
        "d = num//10\n",
        "\n",
        "reverse = 1000*a+100*b+10*c+d\n",
        "print(\"reverse of the number is :\",reverse)"
      ],
      "metadata": {
        "colab": {
          "base_uri": "https://localhost:8080/"
        },
        "id": "pyZDQ9SuJUyx",
        "outputId": "8899b186-f05c-4dd2-ed4e-582c8c0aae22"
      },
      "execution_count": 22,
      "outputs": [
        {
          "output_type": "stream",
          "name": "stdout",
          "text": [
            "reverse of the number is : 1234\n"
          ]
        }
      ]
    },
    {
      "cell_type": "code",
      "source": [
        "# Q6.Write a program that will tell whether the number entered by the user is odd or even.\n",
        "num = int(input(\"Enter the number :\" ))\n",
        "\n",
        "if num%2==0:\n",
        "  print(\"Even\")\n",
        "else:\n",
        "  print(\"Odd\")"
      ],
      "metadata": {
        "colab": {
          "base_uri": "https://localhost:8080/"
        },
        "id": "Ydgtl3CdLwQ0",
        "outputId": "48d6c8cb-8311-468d-c646-f7012de163e9"
      },
      "execution_count": 24,
      "outputs": [
        {
          "output_type": "stream",
          "name": "stdout",
          "text": [
            "Enter the number :5\n",
            "Odd\n"
          ]
        }
      ]
    },
    {
      "cell_type": "code",
      "source": [
        "# Q7.Write a program that will tell whether the given year is a leap year or not.\n",
        "Year = int(input(\"Enter the year : \"))\n",
        "\n",
        "if Year%4==0:\n",
        "  print(\"Leap Year\")\n",
        "else :\n",
        "  print(\"Not a Leap Year\")"
      ],
      "metadata": {
        "colab": {
          "base_uri": "https://localhost:8080/"
        },
        "id": "IfnO5NvqPX5a",
        "outputId": "a81cdb11-771a-481d-9119-c0e3d0c79566"
      },
      "execution_count": 29,
      "outputs": [
        {
          "output_type": "stream",
          "name": "stdout",
          "text": [
            "Enter the year : 2026\n",
            "Not a Leap Year\n"
          ]
        }
      ]
    },
    {
      "cell_type": "code",
      "source": [
        "# Q8.Write a program to find the euclidean distance between two coordinates.\n",
        "x1=2\n",
        "x2=5\n",
        "y1=3\n",
        "y2=8\n",
        "\n",
        "d = ((x2-x1)**2+(y2-y1)**2)**0.5\n",
        "print(\"Euclidean Distance is : \",d)\n"
      ],
      "metadata": {
        "colab": {
          "base_uri": "https://localhost:8080/"
        },
        "id": "ltBfhe49QQol",
        "outputId": "a75184db-a270-4b1f-ebaa-8f249d88a20b"
      },
      "execution_count": 30,
      "outputs": [
        {
          "output_type": "stream",
          "name": "stdout",
          "text": [
            "Euclidean Distance is :  5.830951894845301\n"
          ]
        }
      ]
    },
    {
      "cell_type": "code",
      "source": [
        "# Q9.Write a program that take a user inpute of three angles and will find out whether it can form a triangle or not.\n",
        "a = float(input(\"Enter angle a :\"))\n",
        "b = float(input(\"Enter angle b :\"))\n",
        "c = float(input(\"Enter angle c :\"))\n",
        "\n",
        "if a+b+c==180 and (a!=0 and b!=0 and c!=0):\n",
        "  print(\"It will form triangle\")\n",
        "else:\n",
        "  print(\"No\")\n"
      ],
      "metadata": {
        "colab": {
          "base_uri": "https://localhost:8080/"
        },
        "id": "FKb621vEQ_3z",
        "outputId": "5d278dd8-21cd-4cae-86c0-9c53713d5064"
      },
      "execution_count": 33,
      "outputs": [
        {
          "output_type": "stream",
          "name": "stdout",
          "text": [
            "Enter angle a :90\n",
            "Enter angle b :30\n",
            "Enter angle c :60\n",
            "It will form triangle\n"
          ]
        }
      ]
    },
    {
      "cell_type": "code",
      "source": [
        "# Q10. Write a program that will take user input of cost price and selling price and determines whether its a loss or a profit\n",
        "\n",
        "cost_price = float(input(\"Enter the cost price : \"))\n",
        "selling_price = float(input(\"Enter the selling price : \"))\n",
        "\n",
        "if selling_price>cost_price:\n",
        "  print(\"Profit\")\n",
        "else:\n",
        "  print(\"Loss\")"
      ],
      "metadata": {
        "colab": {
          "base_uri": "https://localhost:8080/"
        },
        "id": "-N3M_WOgTF7-",
        "outputId": "d387c91e-031d-41b0-920a-8b9acdd223af"
      },
      "execution_count": 34,
      "outputs": [
        {
          "output_type": "stream",
          "name": "stdout",
          "text": [
            "Enter the cost price : 5\n",
            "Enter the selling price : 6\n",
            "Profit\n"
          ]
        }
      ]
    },
    {
      "cell_type": "code",
      "source": [
        "# Q11.Write a program to find the simple interest when the value of principle,rate of interest and time period is given.\n",
        "p = int(input(\"Enter the value : \"))\n",
        "r = int(input(\"Enter the value : \"))\n",
        "t = int(input(\"Enter the value : \"))\n",
        "\n",
        "F = (p*r*t)/100\n",
        "F"
      ],
      "metadata": {
        "colab": {
          "base_uri": "https://localhost:8080/"
        },
        "id": "kPagnNJuT8Xc",
        "outputId": "3aa4b018-6a6f-4520-bc81-a6636db583e5"
      },
      "execution_count": 36,
      "outputs": [
        {
          "name": "stdout",
          "output_type": "stream",
          "text": [
            "Enter the value : 30\n",
            "Enter the value : 20\n",
            "Enter the value : 10\n"
          ]
        },
        {
          "output_type": "execute_result",
          "data": {
            "text/plain": [
              "60.0"
            ]
          },
          "metadata": {},
          "execution_count": 36
        }
      ]
    },
    {
      "cell_type": "code",
      "source": [
        "# Q12.Write a program to find the volume of the cylinder. Also find the cost when ,when the cost of 1litre milk is 40Rs.\n",
        "\n",
        "\n",
        "r=float(input(\"Enter the Radius of cylinder :\"))\n",
        "h=float(input(\"Enter the Height of cylinder :\"))\n",
        "\n",
        "V=3.14*(r**2)*h\n",
        "print(V)\n",
        "cost = V/1000*40\n",
        "print(cost)"
      ],
      "metadata": {
        "colab": {
          "base_uri": "https://localhost:8080/"
        },
        "id": "jhPt_djZU1A2",
        "outputId": "e5b4e1ed-3410-4c39-b520-1f501b7c0170"
      },
      "execution_count": 40,
      "outputs": [
        {
          "output_type": "stream",
          "name": "stdout",
          "text": [
            "Enter the Radius of cylinder :4\n",
            "Enter the Height of cylinder :5\n",
            "251.20000000000002\n",
            "10.048000000000002\n"
          ]
        }
      ]
    },
    {
      "cell_type": "code",
      "source": [
        "# Q13.Write  a program that will tell whether the given number is divisible by 3 & 6.\n",
        "\n",
        "Num = 27\n",
        "if Num%3==0 and Num%6==0:\n",
        "  print(\"Yes\")\n",
        "else:\n",
        "  print(\"No\")"
      ],
      "metadata": {
        "colab": {
          "base_uri": "https://localhost:8080/"
        },
        "id": "FQ8fgs7SWRM5",
        "outputId": "b0b47857-0dd6-43b7-a3bf-e8d91a6a3cad"
      },
      "execution_count": 42,
      "outputs": [
        {
          "output_type": "stream",
          "name": "stdout",
          "text": [
            "No\n"
          ]
        }
      ]
    },
    {
      "cell_type": "code",
      "source": [
        "# Q14.Write a program that will determine weather when the value of temperature and humidity is provided by the user.\n",
        "\"\"\" TEMPERATURE(C)      HUMIDITY(%)      WEATHER\n",
        "\n",
        "      >= 30                             >=90                Hot and Humid\n",
        "      >= 30                             < 90                 Hot\n",
        "      <30                                >= 90               Cool and Humid\n",
        "      <30                                 <90                 Cool \"\"\"\n",
        "\n",
        "temp = float(input(\"Enter the temperature : \"))\n",
        "humi = float(input(\"Enter the humidity : \"))\n",
        "\n",
        "if temp >=30 and humi >=90 :\n",
        "  print(\"HOT AND HUMID\")\n",
        "elif temp >=30 and humi <90 :\n",
        "  print(\"HOT\")\n",
        "elif temp < 30 and humi >=90:\n",
        "  print(\"Cool and Humid\")\n",
        "else :\n",
        "  print(\"Cool\")\n",
        ""
      ],
      "metadata": {
        "colab": {
          "base_uri": "https://localhost:8080/"
        },
        "id": "oU2a8bhjXaKg",
        "outputId": "a971592c-0f72-4d60-cc37-0621a9ec819f"
      },
      "execution_count": 45,
      "outputs": [
        {
          "output_type": "stream",
          "name": "stdout",
          "text": [
            "Enter the temperature : 45\n",
            "Enter the humidity : 95\n",
            "HOT AND HUMID\n"
          ]
        }
      ]
    },
    {
      "cell_type": "code",
      "source": [
        "# Q15.Write a program that will take three digits from the user and add the square of each digit.\n",
        "num = int(input(\"Enter 3 digits :\"))\n",
        "\n",
        "a = num%10\n",
        "num = num//10\n",
        "b = num%10\n",
        "c = num //10\n",
        "\n",
        "result = a**2+b**2+c**2\n",
        "print(result)"
      ],
      "metadata": {
        "colab": {
          "base_uri": "https://localhost:8080/"
        },
        "id": "NHYpiB_yZGRx",
        "outputId": "fbda5b95-07b6-4a44-bc01-491f101f2a91"
      },
      "execution_count": 2,
      "outputs": [
        {
          "output_type": "stream",
          "name": "stdout",
          "text": [
            "Enter 3 digits :123\n",
            "14\n"
          ]
        }
      ]
    },
    {
      "cell_type": "code",
      "source": [
        "# Q16.Write a program that will check whether the number is armstrong number or not.\n",
        "\n",
        "user_input = int(input(\"Enter a 3 digit number : \"))\n",
        "num = user_input\n",
        "a=num%10\n",
        "num = num//10\n",
        "b=num%10\n",
        "c=num//10\n",
        "\n",
        "\n",
        "sum =(a**3)+(b**3)+(c**3)\n",
        "\n",
        "\n",
        "if sum==user_input:\n",
        "     print(\"Armstrong Number\")\n",
        "else:\n",
        "     print(\"No\")"
      ],
      "metadata": {
        "colab": {
          "base_uri": "https://localhost:8080/"
        },
        "id": "hN6FI-EGaF45",
        "outputId": "2ae1e395-e2c5-4921-ecbe-0a99171fb6e0"
      },
      "execution_count": 18,
      "outputs": [
        {
          "output_type": "stream",
          "name": "stdout",
          "text": [
            "Enter a 3 digit number : 153\n",
            "Armstrong Number\n"
          ]
        }
      ]
    },
    {
      "cell_type": "code",
      "source": [],
      "metadata": {
        "id": "5m6XQWdOJo8e"
      },
      "execution_count": 18,
      "outputs": []
    },
    {
      "cell_type": "code",
      "source": [
        "# Q17.Write a program that will take user input of (4 digits number) and check whether the number is narcissist number or not.\n",
        "\n",
        "user_input = int(input(\"Enter a 3 digit number : \"))\n",
        "num = user_input\n",
        "a=num%10\n",
        "num = num//10\n",
        "b=num%10\n",
        "num = num//10\n",
        "c=num%10\n",
        "d=num//10\n",
        "\n",
        "\n",
        "sum =(a**4)+(b**4)+(c**4)+(d**4)\n",
        "\n",
        "\n",
        "if sum==user_input:\n",
        "     print(\"Narcissist Number\")\n",
        "else:\n",
        "     print(\"Not a narcissist number\")"
      ],
      "metadata": {
        "colab": {
          "base_uri": "https://localhost:8080/"
        },
        "id": "1aOmhBblKDyW",
        "outputId": "56863b69-d47b-4612-82b2-91b03c928c85"
      },
      "execution_count": 22,
      "outputs": [
        {
          "output_type": "stream",
          "name": "stdout",
          "text": [
            "Enter a 3 digit number : 8208\n",
            "Narcissist Number\n"
          ]
        }
      ]
    },
    {
      "cell_type": "code",
      "source": [
        "# Q18.\n",
        "\"\"\"Write a program that will give you the in hand salary after deduction of\n",
        "   HRA(10%),DA(5%),PF(3%), and tax(if salary is between 5-10 lakh–10%),(11-20lakh–20%),(20< _   – 30%)(0-1lakh print k)\"\"\""
      ],
      "metadata": {
        "id": "i-n7gGHCMvRn"
      },
      "execution_count": null,
      "outputs": []
    },
    {
      "cell_type": "code",
      "source": [
        "user_input = float(input(\"Enter the salary : \"))\n",
        "\n",
        "if user_input >500000 and user_input <1000000:\n",
        "  tax = 0.1*user_input\n",
        "  temp_salary = user_input-tax\n",
        "\n",
        "elif user_input > 1100000 and user_input < 2000000:\n",
        "  tax = 0.2*user_input\n",
        "  temp_salary = user_input-tax\n",
        "\n",
        "else:\n",
        "  tax = 0.3*user_input\n",
        "  temp_salary = user_input-tax\n",
        "\n",
        "HRA = 0.1*temp_salary\n",
        "DA = 0.5*temp_salary\n",
        "PF = 0.3*temp_salary\n",
        "\n",
        "salary_in_hand = temp_salary - (HRA+DA+PF)/12\n",
        "print(\"salary in hand is: \",salary_in_hand)\n",
        "\n",
        "if salary_in_hand < 999:\n",
        "  print(salary_in_hand)\n",
        "elif salary_in_hand >1000 and salary_in_hand <99999:\n",
        "  print(salary_in_hand/1000,\"K\")\n",
        "elif salary_in_hand >100000 and salary_in_hand <9999999:\n",
        "  print(salary_in_hand/100000,\"l\")\n",
        "else:\n",
        "  print(salary_in_hand/10000000,\"cr\")"
      ],
      "metadata": {
        "colab": {
          "base_uri": "https://localhost:8080/"
        },
        "id": "VzLJ47WNNipd",
        "outputId": "7b0639cd-b8ce-41e5-de32-c747c1de0430"
      },
      "execution_count": 2,
      "outputs": [
        {
          "output_type": "stream",
          "name": "stdout",
          "text": [
            "Enter the salary : 600000\n",
            "salary in hand is:  499500.0\n",
            "4.995 l\n"
          ]
        }
      ]
    },
    {
      "cell_type": "code",
      "source": [
        "# Q20.Write a menu driven program - 1.cm to ft  2.kl to miles  3.usd to inr  4.exit\n",
        "\n",
        "user_input = input(\"\"\"\n",
        "Hi,Welcome to this page\n",
        "\n",
        "Enter 1 for cm to fit conversion\n",
        "Enter 2 for kl to miles conversion\n",
        "Enter 3 for usd to inr conversion\n",
        "Enter 4 to exit\n",
        "\"\"\")\n",
        "\n",
        "if user_input ==\"1\":\n",
        "  cm = float(input(\"Enter the centimeter \"))\n",
        "  feet = cm*0.0328\n",
        "  print(\"your feet will be :\",feet)\n",
        "elif user_input == \"2\":\n",
        "  km = float(input(\"Enter the kilometer \"))\n",
        "  miles = km*0.621\n",
        "  print(\"your miles will be :\",miles)\n",
        "elif user_input == \"3\":\n",
        "  usd = float(input(\"Enter the usd \"))\n",
        "  inr = usd*83.11\n",
        "  print(\"your inr will be :\",inr)\n",
        "else:\n",
        "  print(\"Exit\")\n"
      ],
      "metadata": {
        "colab": {
          "base_uri": "https://localhost:8080/"
        },
        "id": "ky6FguDAFNv7",
        "outputId": "7380323d-eeae-44bb-85d3-bce2790ac49d"
      },
      "execution_count": 5,
      "outputs": [
        {
          "output_type": "stream",
          "name": "stdout",
          "text": [
            "\n",
            "Hi,Welcome to this page\n",
            "\n",
            "Enter 1 for cm to fit conversion\n",
            "Enter 2 for kl to miles conversion\n",
            "Enter 3 for usd to inr conversion\n",
            "Enter 4 to exit\n",
            "1\n",
            "Enter the centimeter 5\n",
            "your feet will be : 0.164\n"
          ]
        }
      ]
    },
    {
      "cell_type": "code",
      "source": [
        "# Q21.Write a program that will tell the number of dogs and chicken are there when the user will provide the value of total heads and legs.\n",
        "\n",
        "total_heads = int(input(\"Enter the total number of heads: \"))\n",
        "total_legs = int(input(\"Enter the total number of legs: \"))\n",
        "\n",
        "# Equation 1: C + D = H\n",
        "# Equation 2: 2C + 4D = L\n",
        "\n",
        "# Solving the equations\n",
        "# We can rewrite Equation 1 to D = H - C\n",
        "# Substituting D in Equation 2, we get: 2C + 4(H - C) = L\n",
        "# Simplifying, we get: 2C + 4H - 4C = L\n",
        "#                     -2C + 4H = L\n",
        "#                     2H = L\n",
        "# Therefore, C = (L - 2H) / 2\n",
        "# Once we have C, we can find D using Equation 1: D = H - C\n",
        "\n",
        "# Calculating number of chickens (C)\n",
        "chickens = (total_legs - 2 * total_heads) // 2\n",
        "\n",
        "# Calculating number of dogs (D)\n",
        "dogs = total_heads - chickens\n",
        "\n",
        "# Checking if the calculated values are non-negative\n",
        "if chickens >= 0 and dogs >= 0:\n",
        "    print(\"Number of chickens:\", chickens)\n",
        "    print(\"Number of dogs:\", dogs)\n",
        "else:\n",
        "    print(\"Invalid input. Please enter valid numbers of heads and legs.\")\n"
      ],
      "metadata": {
        "colab": {
          "base_uri": "https://localhost:8080/"
        },
        "id": "PqOkVwnzR0pq",
        "outputId": "96180c6d-ec60-451c-dceb-97d6fba6c4d5"
      },
      "execution_count": 10,
      "outputs": [
        {
          "output_type": "stream",
          "name": "stdout",
          "text": [
            "Enter the total number of heads: 6\n",
            "Enter the total number of legs: 16\n",
            "Number of chickens: 2\n",
            "Number of dogs: 4\n"
          ]
        }
      ]
    },
    {
      "cell_type": "code",
      "source": [
        "# Q22.Write a program that will swap numbers\n",
        "\n",
        "a = float(input(\"Enter the number : \"))\n",
        "b = float(input(\"Enter the number : \"))\n",
        "\n",
        "print(f\"numbers before swap are {a} and {b}\")\n",
        "\n",
        "temp=a\n",
        "a=b\n",
        "b=temp\n",
        "\n",
        "print(f\"numbers before swap are {a} and {b}\")"
      ],
      "metadata": {
        "colab": {
          "base_uri": "https://localhost:8080/"
        },
        "id": "0IF8NSF0V7RW",
        "outputId": "cdb9185f-5a21-4e41-c27c-6b93765cea66"
      },
      "execution_count": 3,
      "outputs": [
        {
          "output_type": "stream",
          "name": "stdout",
          "text": [
            "Enter the number : 45\n",
            "Enter the number : 90\n",
            "numbers before swap are 45.0 and 90.0\n",
            "numbers before swap are 90.0 and 45.0\n"
          ]
        }
      ]
    },
    {
      "cell_type": "code",
      "source": [
        "# Q23.Write a program to find the sum of first n numbers, where n will be provided by the user.\n",
        "      # Eg if the user provides n=10 the output should be 55.\n",
        "\n",
        "num = int(input(\"enter the number: \"))\n",
        "sum = num*(num + 1)/2\n",
        "print(\"sum of n natural number is :\",sum)"
      ],
      "metadata": {
        "colab": {
          "base_uri": "https://localhost:8080/"
        },
        "id": "C-KpRp5LnGwV",
        "outputId": "60bd60f4-9363-452a-b6e8-991fe0ee7c67"
      },
      "execution_count": 4,
      "outputs": [
        {
          "output_type": "stream",
          "name": "stdout",
          "text": [
            "enter the number: 10\n",
            "sum of n natural number is : 55.0\n"
          ]
        }
      ]
    },
    {
      "cell_type": "code",
      "source": [
        "# Q23.Write a program that can multiply 2 numbers provided by the user without using the * operator\n",
        "import numpy as np\n",
        "a = int(input(\"enter the number : \"))\n",
        "b = int(input(\"enter the number : \"))\n",
        "sum=0\n",
        "for i in range(0,a):\n",
        "  sum=sum+b\n",
        "print(f\"product of {a} and {b} is {sum}\")"
      ],
      "metadata": {
        "colab": {
          "base_uri": "https://localhost:8080/"
        },
        "id": "l76IZ4kCoZcy",
        "outputId": "4a513d89-7b9f-4253-a8a3-887a8bf963f1"
      },
      "execution_count": 7,
      "outputs": [
        {
          "output_type": "stream",
          "name": "stdout",
          "text": [
            "enter the number : 4\n",
            "enter the number : 5\n",
            "product of 4 and 5 is 20\n"
          ]
        }
      ]
    },
    {
      "cell_type": "code",
      "source": [
        "# Q24.Write a program that can find the factorial of a given number provided by the user.\n",
        "num = int(input(\"Enter the numberI: \"))\n",
        "\n",
        "fact = 1\n",
        "for i in range(1,num+1):\n",
        "  fact*=i\n",
        "print(f\"factorial of {num} is {fact}\")"
      ],
      "metadata": {
        "colab": {
          "base_uri": "https://localhost:8080/"
        },
        "id": "fnhVBx_8pL-2",
        "outputId": "401dfd1b-256d-4527-f81e-15683827e88a"
      },
      "execution_count": 14,
      "outputs": [
        {
          "output_type": "stream",
          "name": "stdout",
          "text": [
            "Enter the numberI: 0\n",
            "factorial of 0 is 1\n"
          ]
        }
      ]
    },
    {
      "cell_type": "code",
      "source": [
        "0#recursive approach\n",
        "def fact(n):\n",
        "  if n==0 or n==1:\n",
        "    return 1\n",
        "  else:\n",
        "    return n*fact(n-1)\n",
        "fact(6)\n"
      ],
      "metadata": {
        "colab": {
          "base_uri": "https://localhost:8080/"
        },
        "id": "ho0fKgIqrwP0",
        "outputId": "6a89e5c8-ebd1-4e21-f924-6b36a183214f"
      },
      "execution_count": 13,
      "outputs": [
        {
          "output_type": "execute_result",
          "data": {
            "text/plain": [
              "720"
            ]
          },
          "metadata": {},
          "execution_count": 13
        }
      ]
    },
    {
      "cell_type": "code",
      "source": [
        "# Q25.Write a program to print the first 25 odd numbers.\n",
        "\n",
        "flag=0\n",
        "i=1\n",
        "while True:\n",
        "  if i%2!=0:\n",
        "    print(i)\n",
        "    flag+=1\n",
        "  if flag==25:\n",
        "    break\n",
        "  i+=1\n",
        "\n",
        "\n"
      ],
      "metadata": {
        "colab": {
          "base_uri": "https://localhost:8080/"
        },
        "id": "mJX_kYJ9sY7u",
        "outputId": "448e9398-2e53-4e39-a253-492fd2fc0a4b"
      },
      "execution_count": 16,
      "outputs": [
        {
          "output_type": "stream",
          "name": "stdout",
          "text": [
            "1\n",
            "3\n",
            "5\n",
            "7\n",
            "9\n",
            "11\n",
            "13\n",
            "15\n",
            "17\n",
            "19\n",
            "21\n",
            "23\n",
            "25\n",
            "27\n",
            "29\n",
            "31\n",
            "33\n",
            "35\n",
            "37\n",
            "39\n",
            "41\n",
            "43\n",
            "45\n",
            "47\n",
            "49\n"
          ]
        }
      ]
    },
    {
      "cell_type": "code",
      "source": [
        "# Q26.Write a program to print whether a given number is prime number or not\n",
        "\n",
        "num=int(input(\"Enter the number : \"))\n",
        "count=0\n",
        "\n",
        "if num>1:\n",
        "  for i in range(1,num+1):\n",
        "    if (num%i)==0:\n",
        "      count+=1\n",
        "  if count==2:\n",
        "    print(\"prime number\")\n",
        "  else:\n",
        "    print(\"Not a prime number\")"
      ],
      "metadata": {
        "colab": {
          "base_uri": "https://localhost:8080/"
        },
        "id": "W5xL4VuIuWkj",
        "outputId": "c309d164-0dba-4569-8186-a276434f6095"
      },
      "execution_count": 16,
      "outputs": [
        {
          "output_type": "stream",
          "name": "stdout",
          "text": [
            "Enter the number : 7\n",
            "prime number\n"
          ]
        }
      ]
    },
    {
      "cell_type": "code",
      "source": [
        "# Q27.Print all the armstrong numbers in the range of 100 to 1000.\n",
        "\n",
        "for i in range(100,1000):\n",
        "  num = i\n",
        "  a=num%10\n",
        "  num=num//10\n",
        "  b=num%10\n",
        "  c=num//10\n",
        "  if (a**3) + (b**3) + (c**3)==i:\n",
        "    print(i)\n"
      ],
      "metadata": {
        "colab": {
          "base_uri": "https://localhost:8080/"
        },
        "id": "8j3rcwt3A9bn",
        "outputId": "d4b5b7d4-ac55-412d-ca8c-e4a8b53e2b32"
      },
      "execution_count": 6,
      "outputs": [
        {
          "output_type": "stream",
          "name": "stdout",
          "text": [
            "153\n",
            "370\n",
            "371\n",
            "407\n"
          ]
        }
      ]
    },
    {
      "cell_type": "code",
      "source": [
        "# Q30.\n",
        "\"\"\"The current population of a town is 10000.\n",
        "The population of the town is increasing at the rate of 10% per year.\n",
        "You have to write a program to find out the population at the end of each of the last 10 years.\n",
        "For eg current population is 10000 so the output should be like this:\n",
        "10th year - 10000\n",
        "9th year - 9000\n",
        "8th year - 8100 and so on\"\"\"\n"
      ],
      "metadata": {
        "id": "24OEDUcRE9GQ"
      },
      "execution_count": 6,
      "outputs": []
    },
    {
      "cell_type": "code",
      "source": [
        "population=10000\n",
        "print(population)\n",
        "flag=0\n",
        "while True:\n",
        "  b = population-(0.1*population)\n",
        "  population = b\n",
        "  print(int(b))\n",
        "  flag+=1\n",
        "\n",
        "  if flag==9:\n",
        "    break\n",
        "\n",
        "\n",
        "\n"
      ],
      "metadata": {
        "colab": {
          "base_uri": "https://localhost:8080/"
        },
        "id": "EqLiEah7G2gY",
        "outputId": "233c4290-f0ab-4e5f-cf62-5d49395894f6"
      },
      "execution_count": 7,
      "outputs": [
        {
          "output_type": "stream",
          "name": "stdout",
          "text": [
            "10000\n",
            "9000\n",
            "8100\n",
            "7290\n",
            "6561\n",
            "5904\n",
            "5314\n",
            "4782\n",
            "4304\n",
            "3874\n"
          ]
        }
      ]
    },
    {
      "cell_type": "code",
      "source": [
        "population = 10000\n",
        "growth_rate = 0.10  # 10% growth rate\n",
        "\n",
        "for year in range(10, 0, -1):\n",
        "    print(f\"{year}th year - {population}\")\n",
        "    population -= population * growth_rate\n",
        "    population = int(population)"
      ],
      "metadata": {
        "colab": {
          "base_uri": "https://localhost:8080/"
        },
        "id": "uqLF161SKl5N",
        "outputId": "6bc4b7fa-42df-4f19-afc7-9e057d8edd82"
      },
      "execution_count": 8,
      "outputs": [
        {
          "output_type": "stream",
          "name": "stdout",
          "text": [
            "10th year - 10000\n",
            "9th year - 9000\n",
            "8th year - 8100\n",
            "7th year - 7290\n",
            "6th year - 6561\n",
            "5th year - 5904\n",
            "4th year - 5313\n",
            "3th year - 4781\n",
            "2th year - 4302\n",
            "1th year - 3871\n"
          ]
        }
      ]
    },
    {
      "cell_type": "code",
      "source": [
        "# Q31.Write a program to print all the unique combinations of 1,2,3 and 4.\n",
        "\n",
        "for i in range(1,5):\n",
        "  for j in range(1,5):\n",
        "    if (i!=j):\n",
        "      print(i,j)"
      ],
      "metadata": {
        "colab": {
          "base_uri": "https://localhost:8080/"
        },
        "id": "MyIJkem8LAYR",
        "outputId": "b223b0fc-2006-4d02-ad29-9b11ef6a1cd1"
      },
      "execution_count": 9,
      "outputs": [
        {
          "output_type": "stream",
          "name": "stdout",
          "text": [
            "1 2\n",
            "1 3\n",
            "1 4\n",
            "2 1\n",
            "2 3\n",
            "2 4\n",
            "3 1\n",
            "3 2\n",
            "3 4\n",
            "4 1\n",
            "4 2\n",
            "4 3\n"
          ]
        }
      ]
    },
    {
      "cell_type": "code",
      "source": [
        "# Q32.User will provide 2 numbers you have to find the HCF of those 2 numbers.\n",
        "\n",
        "x = int(input(\"Enter the number: \"))\n",
        "y = int(input(\"Enter the number: \"))\n",
        "\n",
        "if x>y:\n",
        "        smaller = y\n",
        "else:\n",
        "        smaller = x\n",
        "HCF=1\n",
        "for i in range(2,smaller+1):\n",
        "  if (x%i==0 and y%i==0):\n",
        "        HCF = i\n",
        "print(\"HCF is : \",HCF)"
      ],
      "metadata": {
        "colab": {
          "base_uri": "https://localhost:8080/"
        },
        "id": "OD0y0E--Mpea",
        "outputId": "43ba9a50-0c11-4907-abce-02325d131f4d"
      },
      "execution_count": 19,
      "outputs": [
        {
          "output_type": "stream",
          "name": "stdout",
          "text": [
            "Enter the number: 20\n",
            "Enter the number: 10\n",
            "HCF is :  10\n"
          ]
        }
      ]
    },
    {
      "cell_type": "code",
      "source": [
        "# Q33.User will provide 2 numbers you have to find the by LCM of those 2 numbers.\n",
        "x = int(input(\"Enter the number: \"))\n",
        "y = int(input(\"Enter the number: \"))\n",
        "\n",
        "if x>y:\n",
        "        greater = x\n",
        "else:\n",
        "        greater = y\n",
        "LCM=greater\n",
        "while True:\n",
        "    if LCM % x == 0 and LCM % y == 0:\n",
        "        break\n",
        "    LCM += greater  # Increment LCM by the greater number until it's divisible by both numbers\n",
        "\n",
        "print(\"LCM is:\", LCM)\n"
      ],
      "metadata": {
        "colab": {
          "base_uri": "https://localhost:8080/"
        },
        "id": "CG_3s0clQF4O",
        "outputId": "26382543-9d01-4d9d-ca90-67afb627ee87"
      },
      "execution_count": 18,
      "outputs": [
        {
          "output_type": "stream",
          "name": "stdout",
          "text": [
            "Enter the number: 20\n",
            "Enter the number: 30\n",
            "LCM is: 60\n"
          ]
        }
      ]
    },
    {
      "cell_type": "code",
      "source": [
        "# Q34.Print first 25 prime numbers.\n",
        "count = 0\n",
        "num = 2\n",
        "\n",
        "while count < 25:  # Adjusted the condition to ensure only 25 prime numbers are printed\n",
        "    is_prime = True  # Assume num is prime initially\n",
        "    for i in range(2, num):\n",
        "        if num % i == 0:\n",
        "            is_prime = False  # Found a factor, so num is not prime\n",
        "            break\n",
        "\n",
        "    if is_prime:\n",
        "        print(num)\n",
        "        count += 1\n",
        "\n",
        "    num += 1\n",
        "\n",
        "\n",
        "\n"
      ],
      "metadata": {
        "colab": {
          "base_uri": "https://localhost:8080/"
        },
        "id": "WSY7aNOhT8wu",
        "outputId": "f459f611-6279-4d52-d6cc-573429aa5549"
      },
      "execution_count": 22,
      "outputs": [
        {
          "output_type": "stream",
          "name": "stdout",
          "text": [
            "2\n",
            "3\n",
            "5\n",
            "7\n",
            "11\n",
            "13\n",
            "17\n",
            "19\n",
            "23\n",
            "29\n",
            "31\n",
            "37\n",
            "41\n",
            "43\n",
            "47\n",
            "53\n",
            "59\n",
            "61\n",
            "67\n",
            "71\n",
            "73\n",
            "79\n",
            "83\n",
            "89\n",
            "97\n"
          ]
        }
      ]
    },
    {
      "cell_type": "code",
      "source": [
        "# Q35.Print the first 20 numbers of a Fibonacci series\n",
        "\n",
        "#fs = 0,1,1,2,3,5,8,13\n",
        "\n",
        "a = 0\n",
        "b = 1\n",
        "print(a)\n",
        "print(b)\n",
        "for i in range(0,18):\n",
        "  sum=a+b\n",
        "  a=b\n",
        "  b=sum\n",
        "  print(sum)\n"
      ],
      "metadata": {
        "colab": {
          "base_uri": "https://localhost:8080/"
        },
        "id": "4si_CRZYWRog",
        "outputId": "0c9297e5-42fd-4b4d-a9e8-e39aa1b4f556"
      },
      "execution_count": 4,
      "outputs": [
        {
          "output_type": "stream",
          "name": "stdout",
          "text": [
            "0\n",
            "1\n",
            "1\n",
            "2\n",
            "3\n",
            "5\n",
            "8\n",
            "13\n",
            "21\n",
            "34\n",
            "55\n",
            "89\n",
            "144\n",
            "233\n",
            "377\n",
            "610\n",
            "987\n",
            "1597\n",
            "2584\n",
            "4181\n"
          ]
        }
      ]
    },
    {
      "cell_type": "code",
      "source": [
        "# Q36.Write a program to find the compound interest\n",
        "\"\"\" A = P(1+r/n)**nt\n",
        "    A\t=\tfinal amount\n",
        "    P\t=\tinitial principal balance\n",
        "    r\t=\tinterest rate\n",
        "    n\t=\tnumber of times interest applied per time period\n",
        "    t\t=\tnumber of time periods elapsed \"\"\""
      ],
      "metadata": {
        "colab": {
          "base_uri": "https://localhost:8080/",
          "height": 53
        },
        "id": "T1Zp8xJNR_OT",
        "outputId": "493db20b-695d-45b6-be6c-533b026fe58b"
      },
      "execution_count": 5,
      "outputs": [
        {
          "output_type": "execute_result",
          "data": {
            "text/plain": [
              "' A = P(1+r/n)**nt\\n    A\\t=\\tfinal amount\\n    P\\t=\\tinitial principal balance\\n    r\\t=\\tinterest rate\\n    n\\t=\\tnumber of times interest applied per time period \\n    t\\t=\\tnumber of time periods elapsed '"
            ],
            "application/vnd.google.colaboratory.intrinsic+json": {
              "type": "string"
            }
          },
          "metadata": {},
          "execution_count": 5
        }
      ]
    },
    {
      "cell_type": "code",
      "source": [
        "P = float(input(\"Enter a initial principal balance : \"))\n",
        "r = float(input(\"interest rate : \"))\n",
        "n = float(input(\"number of times interest applied per time period : \"))\n",
        "t = float(input(\"number of time periods elapsed : \"))\n",
        "\n",
        "final_amount = P*(1+r/n)**(n*t)\n",
        "print(\"final amount is : \" , final_amount)"
      ],
      "metadata": {
        "colab": {
          "base_uri": "https://localhost:8080/"
        },
        "id": "jp4bqwZoVq9g",
        "outputId": "bf7969c9-9600-4af7-b246-af2331353119"
      },
      "execution_count": 7,
      "outputs": [
        {
          "output_type": "stream",
          "name": "stdout",
          "text": [
            "Enter a initial principal balance : 4\n",
            "interest rate : 5\n",
            "number of times interest applied per time period : 6\n",
            "number of time periods elapsed : 7\n",
            "final amount is :  455197902131.24677\n"
          ]
        }
      ]
    },
    {
      "cell_type": "code",
      "source": [
        "# Q37.Write a Python program that accepts an integer (n) and computes the value of n+nn+nnn.\n",
        "\n",
        "n = input(\"Enter the number : \")\n",
        "print(\"n is : \",n)\n",
        "nn = n+n\n",
        "print(\"nn is :\",nn)\n",
        "nnn = n+n+n\n",
        "print(\"nnn is : \", nnn)\n",
        "\n",
        "sum = int(n)+int(nn)+int(nnn)\n",
        "print(sum)\n"
      ],
      "metadata": {
        "colab": {
          "base_uri": "https://localhost:8080/"
        },
        "id": "KCanRyUoWi_s",
        "outputId": "aff578ea-e9cc-4cdc-e6a9-125846b3ac6e"
      },
      "execution_count": 10,
      "outputs": [
        {
          "output_type": "stream",
          "name": "stdout",
          "text": [
            "Enter the number : 2\n",
            "n is :  2\n",
            "nn is : 22\n",
            "nnn is :  222\n",
            "246\n"
          ]
        }
      ]
    },
    {
      "cell_type": "code",
      "source": [
        "# Q38.Take a number from the user and find the number of digits in it.\n",
        "# time complexity more\n",
        "num = input(\"Enter the number : \")\n",
        "count=0\n",
        "for i in num:\n",
        "  for j in i:\n",
        "    count+=1\n",
        "print(\"The number of digits in given number is : \",count)"
      ],
      "metadata": {
        "colab": {
          "base_uri": "https://localhost:8080/"
        },
        "id": "VjyTwnohaAnb",
        "outputId": "3b71db71-7d36-4ccb-9802-cd14246ec034"
      },
      "execution_count": 16,
      "outputs": [
        {
          "output_type": "stream",
          "name": "stdout",
          "text": [
            "Enter the number : 123456789\n",
            "The number of digits in given number is :  9\n"
          ]
        }
      ]
    },
    {
      "cell_type": "code",
      "source": [
        "#less time complexity\n",
        "num = int(input(\"Enter the number : \"))\n",
        "count=0\n",
        "while num > 0:\n",
        "  num=num//10\n",
        "  count+=1\n",
        "print(\"The number of digits in given number is : \",count)"
      ],
      "metadata": {
        "colab": {
          "base_uri": "https://localhost:8080/"
        },
        "id": "Wqj2lC-Babmr",
        "outputId": "d46d67b1-19a6-434b-aa46-dfc8e8e4e9d2"
      },
      "execution_count": 19,
      "outputs": [
        {
          "output_type": "stream",
          "name": "stdout",
          "text": [
            "Enter the number : 123456\n",
            "The number of digits in given number is :  6\n"
          ]
        }
      ]
    },
    {
      "cell_type": "code",
      "source": [
        "# Q39.Print all factors of a given number provided by the user.\n",
        "num = int(input(\"Enter the number : \"))\n",
        "\n",
        "if num>0:\n",
        "  for i in range(2,num+1):\n",
        "    if num%i==0:\n",
        "      print(i)\n",
        "else:\n",
        "  print(\"Enter positive number\")"
      ],
      "metadata": {
        "colab": {
          "base_uri": "https://localhost:8080/"
        },
        "id": "2Cb22YE2qbtU",
        "outputId": "06ea1a34-e2e7-48bb-c336-ff587640fb93"
      },
      "execution_count": 24,
      "outputs": [
        {
          "output_type": "stream",
          "name": "stdout",
          "text": [
            "Enter the number : 25\n",
            "5\n",
            "25\n"
          ]
        }
      ]
    },
    {
      "cell_type": "code",
      "source": [
        "# Q40.Find the reverse of a number provided by the user(any number of digit)\n",
        "\n",
        "num = int(input(\"Enter the number : \"))\n",
        "rev = 0\n",
        "while num > 0:\n",
        "  rem = num%10\n",
        "  num = num//10\n",
        "  rev = rev*10+rem\n",
        "print(\"Reversed number is : \",rev)"
      ],
      "metadata": {
        "colab": {
          "base_uri": "https://localhost:8080/"
        },
        "id": "YRhahayErrAA",
        "outputId": "71d7ac60-9623-4945-801e-7b1d1224f2c4"
      },
      "execution_count": 27,
      "outputs": [
        {
          "output_type": "stream",
          "name": "stdout",
          "text": [
            "Enter the number : 324567\n",
            "Reversed number is :  765423\n"
          ]
        }
      ]
    },
    {
      "cell_type": "code",
      "source": [
        "# Q41.Write a program to print the following pattern\n",
        "\"\"\" *\n",
        "    **\n",
        "    ***\n",
        "    ****\n",
        "    ***** \"\"\""
      ],
      "metadata": {
        "id": "4Ja0puG6uVM5"
      },
      "execution_count": null,
      "outputs": []
    },
    {
      "cell_type": "code",
      "source": [
        "row = int(input(\"Enter the rows : \"))\n",
        "for i in range(1,row+1):\n",
        "  print(\"*\"*i)\n",
        ""
      ],
      "metadata": {
        "colab": {
          "base_uri": "https://localhost:8080/"
        },
        "id": "7FjzCyYtvcBQ",
        "outputId": "01a9b417-358d-4e35-8f16-7a25e830e4a9"
      },
      "execution_count": 28,
      "outputs": [
        {
          "output_type": "stream",
          "name": "stdout",
          "text": [
            "Enter the rows : 4\n",
            "*\n",
            "**\n",
            "***\n",
            "****\n"
          ]
        }
      ]
    },
    {
      "cell_type": "code",
      "source": [
        "# Q46.Write a program to calculate the sum of the following series till the nth term\n",
        "#     1/1! + 2/2! + 3/3! + 4/4! +…….+ n/n!\n",
        "#     n will be provided by the user\n",
        "\n",
        "n = int(input(\"Enter a number : \"))\n",
        "result = 0\n",
        "fact  = 1\n",
        "for i in range(1,n+1):\n",
        "  fact = fact*i\n",
        "  result = result + (i/fact)\n",
        "print(result)"
      ],
      "metadata": {
        "colab": {
          "base_uri": "https://localhost:8080/"
        },
        "id": "nyAl0fhRyhBQ",
        "outputId": "c37f4b14-c8cd-4ee1-87fc-0b8a38b4effa"
      },
      "execution_count": 29,
      "outputs": [
        {
          "output_type": "stream",
          "name": "stdout",
          "text": [
            "Enter a number : 4\n",
            "2.6666666666666665\n"
          ]
        }
      ]
    },
    {
      "cell_type": "code",
      "source": [
        "# Q47.Write a Python Program to Find the Sum of the Series till the nth term:\n",
        "#     1 + x^2/2 + x^3/3 + … x^n/n\n",
        "#     n will be provided by the use"
      ],
      "metadata": {
        "id": "hQaMn_uT3cvN"
      },
      "execution_count": null,
      "outputs": []
    },
    {
      "cell_type": "code",
      "source": [
        "x = int(input(\"Enter the x : \"))\n",
        "n = int(input(\"Enter the n : \"))\n",
        "sum = 1\n",
        "for i in range(2,n+1):\n",
        "  sum=sum+((x**i)/i)\n",
        "print(sum)\n"
      ],
      "metadata": {
        "colab": {
          "base_uri": "https://localhost:8080/"
        },
        "id": "5_geYdjE4NaR",
        "outputId": "ebf2c132-ec43-496d-e98d-ff4881e235e5"
      },
      "execution_count": 31,
      "outputs": [
        {
          "output_type": "stream",
          "name": "stdout",
          "text": [
            "Enter the x : 3\n",
            "Enter the n : 4\n",
            "34.75\n"
          ]
        }
      ]
    },
    {
      "cell_type": "code",
      "source": [
        "# Q49. Write a program that keeps on accepting a number from the user until the user enters Zero.\n",
        "#      Display the sum and average of all the numbers.\n",
        "\n",
        "num  = int(input(\"Enter a num : \"))\n",
        "sum = 0\n",
        "avg = 0\n",
        "count = 0\n",
        "while True:\n",
        "  if num !=0:\n",
        "    sum=sum+num\n",
        "    count+=1\n",
        "    avg = sum/count\n",
        "    num  = int(input(\"Enter a num : \"))\n",
        "  else:\n",
        "    print(\"Thank you\")\n",
        "    break\n",
        "\n",
        "print(f\"Sum is {sum},and avg is {avg}\")\n",
        "\n",
        ""
      ],
      "metadata": {
        "colab": {
          "base_uri": "https://localhost:8080/"
        },
        "id": "fNTq39XZ5qg3",
        "outputId": "5537185e-2204-4087-cfcd-05bc8f11b4be"
      },
      "execution_count": 36,
      "outputs": [
        {
          "output_type": "stream",
          "name": "stdout",
          "text": [
            "Enter a num : 6\n",
            "Enter a num : 6\n",
            "Enter a num : 6\n",
            "Enter a num : 6\n",
            "Enter a num : 6\n",
            "Enter a num : 6\n",
            "Enter a num : 0\n",
            "Thank you\n",
            "Sum is 36,and avg is 6.0\n"
          ]
        }
      ]
    },
    {
      "cell_type": "code",
      "source": [
        "# Q51.Find the length of a given string without using the len() function.\n",
        "\n",
        "user_input = input(\"Enter the string : \")\n",
        "count = 0\n",
        "for i in user_input:\n",
        "    count+=1\n",
        "print(\"Length of string is : \",count)"
      ],
      "metadata": {
        "colab": {
          "base_uri": "https://localhost:8080/"
        },
        "id": "pFaB161674vm",
        "outputId": "275ee5e8-22f3-42c8-fa8f-b814989fd08f"
      },
      "execution_count": 5,
      "outputs": [
        {
          "output_type": "stream",
          "name": "stdout",
          "text": [
            "Enter the string : Tushar sinha\n",
            "Length of string is :  12\n"
          ]
        }
      ]
    },
    {
      "cell_type": "code",
      "source": [
        "# Q52.Extract username from a given email.\n",
        "#     Eg if the email is nitish24singh@gmail.com then the username should be nitish24singh"
      ],
      "metadata": {
        "id": "U3ohLDVRXASa"
      },
      "execution_count": null,
      "outputs": []
    },
    {
      "cell_type": "code",
      "source": [
        "email = input(\"Enter your email : \")\n",
        "index = email.index(\"@\")\n",
        "username = email[0:index]\n",
        "print(\"Username of your email is : \",username)"
      ],
      "metadata": {
        "colab": {
          "base_uri": "https://localhost:8080/"
        },
        "id": "T-TED8AzaQOK",
        "outputId": "4bc50209-fdfe-4ec4-b59f-8fb39094a83d"
      },
      "execution_count": 14,
      "outputs": [
        {
          "output_type": "stream",
          "name": "stdout",
          "text": [
            "Enter your email : tusharsinha1452@gmail.com\n",
            "Username of your email is :  tusharsinha1452\n"
          ]
        }
      ]
    },
    {
      "cell_type": "code",
      "source": [
        "email = input(\"Enter your email : \")\n",
        "username = email.split(\"@\")[0]\n",
        "print(\"Username is : \",username)"
      ],
      "metadata": {
        "colab": {
          "base_uri": "https://localhost:8080/"
        },
        "id": "RyZB0zUhcrvG",
        "outputId": "2b833c06-02c4-445e-d03d-7c40179fdc15"
      },
      "execution_count": 17,
      "outputs": [
        {
          "output_type": "stream",
          "name": "stdout",
          "text": [
            "Enter your email : nitish24singh@gmail.com\n",
            "Username is :  nitish24singh\n"
          ]
        }
      ]
    },
    {
      "cell_type": "code",
      "source": [
        "# Q53.Count the frequency of a particular character in a provided string.\n",
        "# Eg 'hello how are you' is the string, the frequency of h in this string is 2."
      ],
      "metadata": {
        "id": "ENG8IDgybM2u"
      },
      "execution_count": 14,
      "outputs": []
    },
    {
      "cell_type": "code",
      "source": [
        "string = (\"hello how are you\")\n",
        "word = \"o\"\n",
        "count = 0\n",
        "for i in string:\n",
        "  if i==word:\n",
        "    count+=1\n",
        "print(\"frequency of word is : \",count)"
      ],
      "metadata": {
        "colab": {
          "base_uri": "https://localhost:8080/"
        },
        "id": "z5sYSWY1bdcy",
        "outputId": "9136303b-a55b-4ec9-e0a7-5648a5081d71"
      },
      "execution_count": 19,
      "outputs": [
        {
          "output_type": "stream",
          "name": "stdout",
          "text": [
            "frequency of word is :  3\n"
          ]
        }
      ]
    },
    {
      "cell_type": "code",
      "source": [
        "#  using inbuilt method count()\n",
        "string = (\"hello how are you\")\n",
        "word = \"h\"\n",
        "\n",
        "fre = string.count(word)\n",
        "print(fre)"
      ],
      "metadata": {
        "colab": {
          "base_uri": "https://localhost:8080/"
        },
        "id": "bYR_4XVweQ4d",
        "outputId": "cdbe1802-ebca-4ab4-f4a9-8af17e8b479f"
      },
      "execution_count": 21,
      "outputs": [
        {
          "output_type": "stream",
          "name": "stdout",
          "text": [
            "2\n"
          ]
        }
      ]
    },
    {
      "cell_type": "code",
      "source": [
        "# Q54. Find the index position of a particular character in another string.\n",
        "\n",
        "string = (\"sinha\")\n",
        "word = \"n\"\n",
        "\n",
        "index = string.index(word)\n",
        "print(\"index of the character is : \" ,index)"
      ],
      "metadata": {
        "colab": {
          "base_uri": "https://localhost:8080/"
        },
        "id": "yLjaqmNQfJk8",
        "outputId": "986405e3-5c33-4db6-8136-8061ed70f156"
      },
      "execution_count": 26,
      "outputs": [
        {
          "output_type": "stream",
          "name": "stdout",
          "text": [
            "index of the character is :  2\n"
          ]
        }
      ]
    },
    {
      "cell_type": "code",
      "source": [
        "# Q55. Count the number of vowels in a string provided by the user.\n",
        "\n",
        "a = input(\"Enter the string : \")\n",
        "b = 'aeiou'\n",
        "count= 0\n",
        "for i in a:\n",
        "  if i in b:\n",
        "    count+=1\n",
        "print(count)"
      ],
      "metadata": {
        "colab": {
          "base_uri": "https://localhost:8080/"
        },
        "id": "Ii9N9cRFguTd",
        "outputId": "a84773c5-8a0b-4dda-ea68-8c0a01fe6cd2"
      },
      "execution_count": 29,
      "outputs": [
        {
          "output_type": "stream",
          "name": "stdout",
          "text": [
            "Enter the string : tushar sinha\n",
            "4\n"
          ]
        }
      ]
    },
    {
      "cell_type": "code",
      "source": [
        "# Q56. Write a program which can remove a particular character from a string\n",
        "a = input(\"Enter the string : \")\n",
        "b = input(\"Enter the character : \")\n",
        "index = a.index(b)\n",
        "c = a[:index]\n",
        "d = a[index+1:]\n",
        "print(c+d)\n"
      ],
      "metadata": {
        "colab": {
          "base_uri": "https://localhost:8080/"
        },
        "id": "hqnoGtOEluEF",
        "outputId": "1fca3272-016d-44fd-a2a7-8bafc6b33ac2"
      },
      "execution_count": 36,
      "outputs": [
        {
          "output_type": "stream",
          "name": "stdout",
          "text": [
            "Enter the string : tushar\n",
            "Enter the character : s\n",
            "tuhar\n"
          ]
        }
      ]
    },
    {
      "cell_type": "code",
      "source": [
        "# Q57. Write a program that can check whether a given string is palindrome or not.\n",
        "string = 'madam'\n",
        "length = len(string)\n",
        "middle = length//2\n",
        "\n",
        "if length%2 == 0:\n",
        "  fh = string[:middle]\n",
        "  lh = string[middle:0]\n",
        "else:\n",
        "  fh = string[:middle]\n",
        "  lh = string[middle+1:]\n",
        "\n",
        "if fh==lh[::-1]:\n",
        "  print(\"palindrome\")\n",
        "else:\n",
        "  print(\"not\")"
      ],
      "metadata": {
        "colab": {
          "base_uri": "https://localhost:8080/"
        },
        "id": "-GgvpuXboK8l",
        "outputId": "18fb8d4b-1e84-4103-eec2-36f17f198e92"
      },
      "execution_count": 45,
      "outputs": [
        {
          "output_type": "stream",
          "name": "stdout",
          "text": [
            "palindrome\n"
          ]
        }
      ]
    },
    {
      "cell_type": "code",
      "source": [
        "# Q58.Write a python program to remove all the duplicates from a list\n",
        "\n",
        "list = [23,55,66,74,19,75,39,40,66,23]\n",
        "list2 = []\n",
        "for i in list:\n",
        "  if i not in list2:\n",
        "    list2.append(i)\n",
        "print(list2)"
      ],
      "metadata": {
        "colab": {
          "base_uri": "https://localhost:8080/"
        },
        "id": "aMwRkA-dpnJK",
        "outputId": "83c9bd28-cea2-451a-8885-a0ed704e268b"
      },
      "execution_count": 46,
      "outputs": [
        {
          "output_type": "stream",
          "name": "stdout",
          "text": [
            "[23, 55, 66, 74, 19, 75, 39, 40]\n"
          ]
        }
      ]
    },
    {
      "cell_type": "code",
      "source": [
        "# Q59.Write a python program to convert a string to title case without using the title()\n",
        "\n",
        "a = \"Welcome to my world\"\n",
        "l = a.split()\n",
        "new = ''\n",
        "for i in l:\n",
        "  i=i[0].upper()+i[1:].lower()+' '\n",
        "  new+=i\n",
        "print(new)\n",
        "\n"
      ],
      "metadata": {
        "colab": {
          "base_uri": "https://localhost:8080/"
        },
        "id": "2pGbcFb8uGOt",
        "outputId": "9fb61e16-7143-494b-9db0-b39acdd1f964"
      },
      "execution_count": 52,
      "outputs": [
        {
          "output_type": "stream",
          "name": "stdout",
          "text": [
            "Welcome To My World \n"
          ]
        }
      ]
    },
    {
      "cell_type": "code",
      "source": [
        "# Q60.Write a python program to find the max item from a list without using the max function\n",
        "\n",
        "l = [10,23,4,56,77,43]\n",
        "max = l[0]\n",
        "\n",
        "for i in l[1:]:\n",
        "  if i > max:\n",
        "    max = i\n",
        "\n",
        "print(max)"
      ],
      "metadata": {
        "colab": {
          "base_uri": "https://localhost:8080/"
        },
        "id": "H3wl8Us7wfJX",
        "outputId": "7d7401e6-2602-45a7-f8e2-26e0f3181ff2"
      },
      "execution_count": 61,
      "outputs": [
        {
          "output_type": "stream",
          "name": "stdout",
          "text": [
            "77\n"
          ]
        }
      ]
    },
    {
      "cell_type": "code",
      "source": [],
      "metadata": {
        "id": "mk6gDJ73yTrk"
      },
      "execution_count": 61,
      "outputs": []
    },
    {
      "cell_type": "code",
      "source": [
        "# Q61.Write a python program to reverse a list\n",
        "\n",
        "list = [1,2,3,4,5]\n",
        "l2 = []\n",
        "for i in range(len(list)-1,-1,-1):\n",
        "  l2.append(list[i])\n",
        "\n",
        "print(l2)"
      ],
      "metadata": {
        "colab": {
          "base_uri": "https://localhost:8080/"
        },
        "id": "btFo05U304W2",
        "outputId": "918682b3-da6a-436a-c60a-7e324d741bad"
      },
      "execution_count": 70,
      "outputs": [
        {
          "output_type": "stream",
          "name": "stdout",
          "text": [
            "[5, 4, 3, 2, 1]\n"
          ]
        }
      ]
    },
    {
      "cell_type": "code",
      "source": [
        "# Q62.Write a python program to search a given number from a list\n",
        "\n",
        "l = [23,55,89,69,25,15,45]\n",
        "num = 0\n",
        "\n",
        "for i in l:\n",
        "  if i==num:\n",
        "    print(\"True\")\n",
        "    break\n",
        "else:\n",
        "  print(\"false\")"
      ],
      "metadata": {
        "colab": {
          "base_uri": "https://localhost:8080/"
        },
        "id": "5nCA6wZV1mbB",
        "outputId": "e6361ce1-a5ce-47e4-aab5-063a8a6b9c2d"
      },
      "execution_count": 75,
      "outputs": [
        {
          "output_type": "stream",
          "name": "stdout",
          "text": [
            "false\n"
          ]
        }
      ]
    },
    {
      "cell_type": "code",
      "source": [
        "# Q63.Write a program that can create a new list from a given list where each item in the new list is square of the item of the old list"
      ],
      "metadata": {
        "id": "iv24H79W4mXF"
      },
      "execution_count": null,
      "outputs": []
    },
    {
      "cell_type": "code",
      "source": [
        "old_list = [1,2,3,4,5]\n",
        "new_list = []\n",
        "\n",
        "for i in old_list:\n",
        "  i=i**2\n",
        "  new_list.append(i)\n",
        "print(new_list)"
      ],
      "metadata": {
        "colab": {
          "base_uri": "https://localhost:8080/"
        },
        "id": "G5HQNQyR5bqI",
        "outputId": "ce88a229-7098-439a-c95b-a6d3bb9cd089"
      },
      "execution_count": 76,
      "outputs": [
        {
          "output_type": "stream",
          "name": "stdout",
          "text": [
            "[1, 4, 9, 16, 25]\n"
          ]
        }
      ]
    },
    {
      "cell_type": "code",
      "source": [
        "# Q64. Write a program that can reverse words of a given string.\n",
        "#      Eg if the input is Hello how are you\n",
        "#      Output should be you are how Hello"
      ],
      "metadata": {
        "id": "t8Lbz9eK6Nzp"
      },
      "execution_count": null,
      "outputs": []
    },
    {
      "cell_type": "code",
      "source": [
        "s = 'Hello how are you'\n",
        "l=s.split()\n",
        "o = []\n",
        "for i in range(len(l)-1,-1,-1):\n",
        "  o.append(l[i])\n",
        "y=' '.join(o)\n",
        "print(y)\n",
        "\n"
      ],
      "metadata": {
        "colab": {
          "base_uri": "https://localhost:8080/"
        },
        "id": "B7kFcZsU6h8T",
        "outputId": "8502dcce-940c-4f42-ad96-af208cee7f8e"
      },
      "execution_count": 78,
      "outputs": [
        {
          "output_type": "stream",
          "name": "stdout",
          "text": [
            "you are how Hello\n"
          ]
        }
      ]
    },
    {
      "cell_type": "code",
      "source": [
        "# Q65.Write a program that can count the number of words in a given string\n",
        "\n",
        "s = 'tushar is great'\n",
        "count = 0\n",
        "for i in s:\n",
        "  count+=1\n",
        "print(\"No. of words in string is : \",count)"
      ],
      "metadata": {
        "colab": {
          "base_uri": "https://localhost:8080/"
        },
        "id": "meG5Sa2v7wyp",
        "outputId": "39ced554-38dd-428f-c03a-eea3b385d956"
      },
      "execution_count": 80,
      "outputs": [
        {
          "output_type": "stream",
          "name": "stdout",
          "text": [
            "No. of words in string is :  15\n"
          ]
        }
      ]
    },
    {
      "cell_type": "code",
      "source": [
        "s = 'tushar is great'\n",
        "l=s.split()\n",
        "len(l)"
      ],
      "metadata": {
        "colab": {
          "base_uri": "https://localhost:8080/"
        },
        "id": "rOT5UlUB8jm1",
        "outputId": "7322588b-882c-4345-ad1f-1f7c9a73b68f"
      },
      "execution_count": 81,
      "outputs": [
        {
          "output_type": "execute_result",
          "data": {
            "text/plain": [
              "3"
            ]
          },
          "metadata": {},
          "execution_count": 81
        }
      ]
    },
    {
      "cell_type": "code",
      "source": [
        "# Q66. Write a program to check if a list is in ascending order or not\n",
        "\n",
        "list=[1,2,3,6,4,5]\n",
        "flag = 0\n",
        "\n",
        "for i in range(0,len(list)-1):\n",
        "  if list[i]>=list[i+1]:\n",
        "    flag = 1\n",
        "    break\n",
        "if flag==0:\n",
        "  print(\"Sorted\")\n",
        "else:\n",
        "  print(\"Not sorted\")"
      ],
      "metadata": {
        "colab": {
          "base_uri": "https://localhost:8080/"
        },
        "id": "7wjL0RFW9GFs",
        "outputId": "8ba410b8-7549-430f-8b41-26c6c4fa9735"
      },
      "execution_count": 8,
      "outputs": [
        {
          "output_type": "stream",
          "name": "stdout",
          "text": [
            "Not sorted\n"
          ]
        }
      ]
    },
    {
      "cell_type": "code",
      "source": [
        "# Q67.Create 2 lists from a given list where 1st list will contain\n",
        "#     all the odd numbers from the original list and the 2nd one will contain all the even numbers.\n",
        "\n",
        "OL = [23,45,67,89,73,52,19,76,90,66,44,20]\n",
        "odd = []\n",
        "even = []\n",
        "for i in OL:\n",
        "  if i%2==0:\n",
        "    even.append(i)\n",
        "  else:\n",
        "    odd.append(i)\n",
        "print(\"List of odd number : \",odd)\n",
        "print(\"List of even number : \",even)"
      ],
      "metadata": {
        "colab": {
          "base_uri": "https://localhost:8080/"
        },
        "id": "1DnQwfghZ5IT",
        "outputId": "21b30250-c5ee-4291-d996-243d159fb826"
      },
      "execution_count": 11,
      "outputs": [
        {
          "output_type": "stream",
          "name": "stdout",
          "text": [
            "List of odd number :  [23, 45, 67, 89, 73, 19]\n",
            "List of even number :  [52, 76, 90, 66, 44, 20]\n"
          ]
        }
      ]
    },
    {
      "cell_type": "code",
      "source": [
        "# Q68. Write a program to merge 2 list without using the + operator\n",
        "\n",
        "list1=[1,23,4,56,78]\n",
        "list2=[43,54,32,21,78]\n",
        "\n",
        "for i in list2:\n",
        "  list1.append(i)\n",
        "\n",
        "print(list1)"
      ],
      "metadata": {
        "colab": {
          "base_uri": "https://localhost:8080/"
        },
        "id": "xyWn8zILdtOa",
        "outputId": "41d90d0d-d4f1-4833-ff09-7379b8d02e0e"
      },
      "execution_count": 18,
      "outputs": [
        {
          "output_type": "stream",
          "name": "stdout",
          "text": [
            "[1, 23, 4, 56, 78, 43, 54, 32, 21, 78]\n"
          ]
        }
      ]
    },
    {
      "cell_type": "code",
      "source": [
        "# Q69.Write a program to replace an item with a different item if found in the list\n",
        "\n",
        "l = [1,23,4,56,6]\n",
        "find = int(input(\"Enter an item : \"))\n",
        "replace = int(input(\"Enter an item to replace : \"))\n",
        "\n",
        "for i in range(0,len(l)-1):\n",
        "  if l[i]==find:\n",
        "    l[i]=replace\n",
        "    print(l)\n",
        "    break\n",
        "else:\n",
        "  print(\"Not found\")"
      ],
      "metadata": {
        "colab": {
          "base_uri": "https://localhost:8080/"
        },
        "id": "2AzRG27BeqA7",
        "outputId": "e488498a-8634-44a2-a8fa-dfcd0a1fc538"
      },
      "execution_count": 20,
      "outputs": [
        {
          "output_type": "stream",
          "name": "stdout",
          "text": [
            "Enter an item : 34\n",
            "Enter an item to replace : 44\n",
            "Not found\n"
          ]
        }
      ]
    },
    {
      "cell_type": "code",
      "source": [
        "# Q70.Write a program that can convert a 2D list to 1D listWrite a program that can print\n",
        "\n",
        "list_2d = [[1,23,45],[34,55,29]]\n",
        "list_1d = []\n",
        "for i in list_2d:\n",
        "  for j in i:\n",
        "    list_1d.append(j)\n",
        "\n",
        "print(\"1-D list is : \",list_1d)"
      ],
      "metadata": {
        "colab": {
          "base_uri": "https://localhost:8080/"
        },
        "id": "EqW1fRgRgkjo",
        "outputId": "f2add950-97c7-41fe-f3db-a6e10b915bd6"
      },
      "execution_count": 25,
      "outputs": [
        {
          "output_type": "stream",
          "name": "stdout",
          "text": [
            "1-D list is :  [1, 23, 45, 34, 55, 29]\n"
          ]
        }
      ]
    },
    {
      "cell_type": "code",
      "source": [
        "# Q71.Write a program that can perform union and intersection on 2 given list.\n",
        "\n",
        "l1 = [1,2,3,4,5]\n",
        "l2 = [4,5,8,9,10]\n",
        "set1 = set(l1)\n",
        "set2 = set(l2)\n",
        "union = set1 | set2\n",
        "intersection = set1 & set2\n",
        "\n",
        "print(f\"Union and intersection are - {union},{intersection}\")"
      ],
      "metadata": {
        "colab": {
          "base_uri": "https://localhost:8080/"
        },
        "id": "CYXZRxm9hJsW",
        "outputId": "ac5fb285-c3fb-483e-a3cd-073f91dc1a95"
      },
      "execution_count": 32,
      "outputs": [
        {
          "output_type": "stream",
          "name": "stdout",
          "text": [
            "Union and intersection are - {1, 2, 3, 4, 5, 8, 9, 10},{4, 5}\n"
          ]
        }
      ]
    },
    {
      "cell_type": "code",
      "source": [
        "l1 = [1,2,3,4,5]\n",
        "l2 = [4,5,8,9,10]\n",
        "union = []\n",
        "intersection = []\n",
        "\n",
        "for i in l1:\n",
        "  if i not in union:\n",
        "    union.append(i)\n",
        "for j in l2:\n",
        "  if j  not in union:\n",
        "    union.append(j)\n",
        "for k in l1:\n",
        "  if k in l2:\n",
        "    intersection.append(k)\n",
        "\n",
        "print(f\"union is {union} and intersection is {intersection}\")"
      ],
      "metadata": {
        "colab": {
          "base_uri": "https://localhost:8080/"
        },
        "id": "Og7GEy0MqZfz",
        "outputId": "6133d58d-4402-4c43-9e9e-f3d094497862"
      },
      "execution_count": 35,
      "outputs": [
        {
          "output_type": "stream",
          "name": "stdout",
          "text": [
            "union is [1, 2, 3, 4, 5, 8, 9, 10] and intersection is [4, 5]\n"
          ]
        }
      ]
    },
    {
      "cell_type": "code",
      "source": [
        "# Q72.the max item of each row of a matrix.\n",
        "\n",
        "matrix = [\n",
        "    [1,2,3],\n",
        "    [4,5,6],\n",
        "    [7,8,9]\n",
        "    ]\n",
        "for i in matrix:\n",
        "  max = i[0]\n",
        "  for j in i:\n",
        "    if j > max:\n",
        "      max = j\n",
        "  print(max)"
      ],
      "metadata": {
        "colab": {
          "base_uri": "https://localhost:8080/"
        },
        "id": "Q-2FX2BZr62G",
        "outputId": "4ad1c661-f4ed-4919-c632-3298d1edd61b"
      },
      "execution_count": 36,
      "outputs": [
        {
          "output_type": "stream",
          "name": "stdout",
          "text": [
            "3\n",
            "6\n",
            "9\n"
          ]
        }
      ]
    },
    {
      "cell_type": "code",
      "source": [
        "# Q73. Write a program that can convert an integer to string.\n",
        "\n",
        "number = int(input(\"Enter an integer: \"))\n",
        "string = str(number)\n",
        "print(type(string),string)"
      ],
      "metadata": {
        "colab": {
          "base_uri": "https://localhost:8080/"
        },
        "id": "WaZMaKwMvPLb",
        "outputId": "a83b4150-37f7-4bca-92c0-409a6d437e7e"
      },
      "execution_count": 39,
      "outputs": [
        {
          "output_type": "stream",
          "name": "stdout",
          "text": [
            "Enter an integer: 5\n",
            "<class 'str'> 5\n"
          ]
        }
      ]
    },
    {
      "cell_type": "code",
      "source": [
        "# Q74. Write a program to print the shape of a matrix.\n",
        "matrix = [\n",
        "    [1,2,3],\n",
        "    [4,5,6],\n",
        "    [6,7,8],\n",
        "    [2,3,4]\n",
        "  ]\n",
        "row = 0\n",
        "for i in matrix:\n",
        "  row+=1\n",
        "  column = len(i)\n",
        "print(\"Shape of matrix is \",row,'*',column)"
      ],
      "metadata": {
        "colab": {
          "base_uri": "https://localhost:8080/"
        },
        "id": "s56NGKgwwK1h",
        "outputId": "d2ad650a-8a03-42b8-ab27-d7005d866af7"
      },
      "execution_count": 41,
      "outputs": [
        {
          "output_type": "stream",
          "name": "stdout",
          "text": [
            "Shape of matrix is  4 * 3\n"
          ]
        }
      ]
    },
    {
      "cell_type": "code",
      "source": [
        "#Q75. Write a program that can check if you can perform matrix multiplication on 2 matrices\n",
        "\n",
        "M1 = [[1,2,3],[4,5,6]]\n",
        "row1 = 0\n",
        "for i in M1:\n",
        "  row1+=1\n",
        "  column1 = len(i)\n",
        "print(\"row1: \",row1)\n",
        "print(\"column1: \",column1)\n",
        "print(\"Shape of matrix is \",row1,'*',column1)\n",
        "\n",
        "M2 = [[7,8,9],[10,11,12],[1,2,3]]\n",
        "row2 = 0\n",
        "for i in M2:\n",
        "  row2+=1\n",
        "  column2 = len(i)\n",
        "print(\"row2: \",row2)\n",
        "print(\"column2: \",column2)\n",
        "print(\"Shape of matrix is \",row2,'*',column2)\n",
        "\n",
        "if column1==row2:\n",
        "  print(\"Multiplication is possible\")\n",
        "else:\n",
        "  print(\"Impossible\")"
      ],
      "metadata": {
        "colab": {
          "base_uri": "https://localhost:8080/"
        },
        "id": "SKQsmCwexjw7",
        "outputId": "134bdade-94ae-4bdf-fa74-61921bf82d83"
      },
      "execution_count": 43,
      "outputs": [
        {
          "output_type": "stream",
          "name": "stdout",
          "text": [
            "row1:  2\n",
            "column1:  3\n",
            "Shape of matrix is  2 * 3\n",
            "row2:  3\n",
            "column2:  3\n",
            "Shape of matrix is  3 * 3\n",
            "Multiplication is possible\n"
          ]
        }
      ]
    },
    {
      "cell_type": "code",
      "source": [
        "# Q77.Write a program that can sort a given unsorted list. Dont use any built in function for sorting.\n",
        "\n",
        "list = [1,9,5,8,3,6,2]\n",
        "for i in range(len(list)):\n",
        "  for k in range(0,len(list)-1):\n",
        "    if list[k]>list[k+1]:\n",
        "      temp = list[k]\n",
        "      list[k]=list[k+1]\n",
        "      list[k+1] = temp\n",
        "print(list)\n"
      ],
      "metadata": {
        "colab": {
          "base_uri": "https://localhost:8080/"
        },
        "id": "FYmcz3VSz13V",
        "outputId": "2294d6b5-2d20-4cbd-9f88-2ab8999c634a"
      },
      "execution_count": 44,
      "outputs": [
        {
          "output_type": "stream",
          "name": "stdout",
          "text": [
            "[1, 2, 3, 5, 6, 8, 9]\n"
          ]
        }
      ]
    },
    {
      "cell_type": "code",
      "source": [
        "# Q78.Assume a list with numbers from 1 to 10 and then convert it into a dictionary\n",
        "#     where the key would be the numbers of the list and the values would be the square of those numbers.\n",
        "\n",
        "O_list = [1,2,3,4,5,6,7,8,9,10]\n",
        "D={}\n",
        "for i in O_list:\n",
        "  D[i]=i**2\n",
        "print(D)"
      ],
      "metadata": {
        "colab": {
          "base_uri": "https://localhost:8080/"
        },
        "id": "WCr2nuQR8vu3",
        "outputId": "935e1535-20f9-4618-c102-152ec0ca3379"
      },
      "execution_count": 46,
      "outputs": [
        {
          "output_type": "stream",
          "name": "stdout",
          "text": [
            "{1: 1, 2: 4, 3: 9, 4: 16, 5: 25, 6: 36, 7: 49, 8: 64, 9: 81, 10: 100}\n"
          ]
        }
      ]
    },
    {
      "cell_type": "code",
      "source": [
        "# Q80.Write a program to merge two given dictionary\n",
        "D1 = {'a':1,'b':2}\n",
        "D2 = {'c':3,'d':4}\n",
        "D = {}\n",
        "for i in D1:\n",
        "  D[i]=D1[i]\n",
        "for k in D2:\n",
        "  D[k]=D2[k]\n",
        "print(D)"
      ],
      "metadata": {
        "colab": {
          "base_uri": "https://localhost:8080/"
        },
        "id": "dBi1uSlIBUes",
        "outputId": "27ead5f8-c1d6-4b05-a738-0e1c4701a450"
      },
      "execution_count": 55,
      "outputs": [
        {
          "output_type": "stream",
          "name": "stdout",
          "text": [
            "{'a': 1, 'b': 2, 'c': 3, 'd': 4}\n"
          ]
        }
      ]
    },
    {
      "cell_type": "code",
      "source": [
        "# Q81.Write a program to swap the key value pair for max and min values\n",
        "#      Eg if the dict is like this {‘a’:1,’b’:2,’c’:3}\n",
        "#      Output should be {a:3,b:2,c:1}\n",
        "\n",
        "D={'a':1,'b':2,'c':3}\n",
        "\n",
        "max_val = max(D.values())\n",
        "min_val = min(D.values())\n",
        "\n",
        "for i in D:\n",
        "  if D[i]==max_val:\n",
        "    print(D[i])\n",
        "    break\n",
        "for j in D:\n",
        "  if D[j]==min_val:\n",
        "    print(D[j])\n",
        "    break\n",
        "D[i] = min_val\n",
        "D[j] = max_val\n",
        "print(D)\n",
        ""
      ],
      "metadata": {
        "colab": {
          "base_uri": "https://localhost:8080/"
        },
        "id": "KA3ekhvPBU94",
        "outputId": "0e8c67be-1318-41af-c064-8bc670c010c2"
      },
      "execution_count": 15,
      "outputs": [
        {
          "output_type": "stream",
          "name": "stdout",
          "text": [
            "3\n",
            "1\n",
            "{'a': 3, 'b': 2, 'c': 1}\n"
          ]
        }
      ]
    },
    {
      "cell_type": "code",
      "source": [
        "# Q82.Write a function that accepts a string and returns the number of upper case chars and lower case chars as a dictionary\n",
        "\n",
        "def count_case_chars(s):\n",
        "    uppercase_count = 0\n",
        "    lowercase_count = 0\n",
        "\n",
        "    for char in s:\n",
        "        if char.isupper():\n",
        "            uppercase_count += 1\n",
        "        elif char.islower():\n",
        "            lowercase_count += 1\n",
        "\n",
        "    return {'uppercase': uppercase_count, 'lowercase': lowercase_count}\n",
        "\n",
        "s = \"TuShAr SinHA IS grEAt\"\n",
        "result = count_case_chars(s)\n",
        "print(result)"
      ],
      "metadata": {
        "colab": {
          "base_uri": "https://localhost:8080/"
        },
        "id": "lLCqsOSChWSC",
        "outputId": "9758fe03-3318-4b9b-9e04-54e0e6eaad62"
      },
      "execution_count": 19,
      "outputs": [
        {
          "output_type": "stream",
          "name": "stdout",
          "text": [
            "{'uppercase': 10, 'lowercase': 8}\n"
          ]
        }
      ]
    },
    {
      "cell_type": "code",
      "source": [
        "# Q83. Write a dummy program that can perform login and registration using a menu driven program\n",
        "user_input = input(\"\"\"\n",
        "Hello,Welcome to the program\n",
        "Enter 1 for registration\n",
        "Enter 2 for login\n",
        "Enter 3 for Exit\n",
        "\"\"\")\n",
        "if user_input == \"1\":\n",
        "  name = input(\"Enter your name : \")\n",
        "  email = input(\"Enter your email : \")\n",
        "  password = input(\"Enter your password : \")\n",
        "  print(\"Registration Successfull\")\n",
        "elif user_input == \"2\":\n",
        "  email1 = input(\"Enter your email: \")\n",
        "  password1 = input(\"Enter your password: \")\n",
        "  if  email1 == email and password1==password:\n",
        "    print(\"Login Succesfull\")"
      ],
      "metadata": {
        "colab": {
          "base_uri": "https://localhost:8080/"
        },
        "id": "bRRE_YPEo3BY",
        "outputId": "5a899e00-a3ca-45fe-9cde-c5792e2265e0"
      },
      "execution_count": 21,
      "outputs": [
        {
          "name": "stdout",
          "output_type": "stream",
          "text": [
            "\n",
            "Hello,Welcome to the program\n",
            "Enter 1 for registration\n",
            "Enter 2 for login\n",
            "Enter 3 for Exit\n",
            "2\n",
            "Enter your email: \n",
            "Enter your password: \n"
          ]
        }
      ]
    },
    {
      "cell_type": "code",
      "source": [],
      "metadata": {
        "id": "KFMWCrbRsjrS"
      },
      "execution_count": null,
      "outputs": []
    }
  ]
}